{
 "cells": [
  {
   "cell_type": "code",
   "execution_count": null,
   "id": "52c283e2",
   "metadata": {},
   "outputs": [],
   "source": [
    "# Clone rdchiral https://github.com/connorcoley/retrosim/tree/master/rdchiral\n",
    "# Import libraries"
   ]
  },
  {
   "cell_type": "code",
   "execution_count": null,
   "id": "e067f835-4f8e-4c04-885a-dad88ad2cb8c",
   "metadata": {},
   "outputs": [],
   "source": [
    "import pandas as pd\n",
    "from rdchiral import template_extractor\n",
    "from tqdm import tqdm\n",
    "import pandas as pd"
   ]
  },
  {
   "cell_type": "code",
   "execution_count": null,
   "id": "5ddaecad",
   "metadata": {},
   "outputs": [],
   "source": [
    "# Read data"
   ]
  },
  {
   "cell_type": "code",
   "execution_count": null,
   "id": "5a8343ed-cb20-42f6-9ee7-f736014bc228",
   "metadata": {},
   "outputs": [],
   "source": [
    "raw_train = pd.read_csv('raw_train.csv').values\n",
    "raw_test = pd.read_csv('raw_test.csv').values\n",
    "raw_val = pd.read_csv('raw_val.csv').values"
   ]
  },
  {
   "cell_type": "code",
   "execution_count": null,
   "id": "96bfba27-3dae-42ad-bbdd-4ec3136e80e4",
   "metadata": {},
   "outputs": [],
   "source": [
    "reactions_train = [{'_id': reaction[0], 'reactants': reaction[2].split('>>')[0], 'products': reaction[2].split('>>')[1]} for reaction in raw_train]\n",
    "reactions_test = [{'_id': reaction[0], 'reactants': reaction[2].split('>>')[0], 'products': reaction[2].split('>>')[1]} for reaction in raw_test]\n",
    "reactions_val = [{'_id': reaction[0], 'reactants': reaction[2].split('>>')[0], 'products': reaction[2].split('>>')[1]} for reaction in raw_val]"
   ]
  },
  {
   "cell_type": "code",
   "execution_count": null,
   "id": "7de6e08d",
   "metadata": {},
   "outputs": [],
   "source": [
    "# Extract templates"
   ]
  },
  {
   "cell_type": "code",
   "execution_count": null,
   "id": "5bc462f3-f7bc-472c-a22e-ea7626dffac3",
   "metadata": {},
   "outputs": [],
   "source": [
    "def extract(reaction):\n",
    "    try:\n",
    "        print(reaction)\n",
    "        return template_extractor.extract_from_reaction(reaction)\n",
    "    except KeyboardInterrupt:\n",
    "        print('Interrupted')\n",
    "        raise KeyboardInterrupt\n",
    "    except Exception as e:\n",
    "        print(e)\n",
    "        return {'reaction_id': reaction['_id']}"
   ]
  },
  {
   "cell_type": "code",
   "execution_count": null,
   "id": "5ac8960d-b398-4794-b95e-5c876dee7664",
   "metadata": {},
   "outputs": [],
   "source": [
    "template_train = [extract(reaction) for reaction in tqdm(reactions_train)]\n",
    "template_test = [extract(reaction) for reaction in tqdm(reactions_test)]\n",
    "template_val = [extract(reaction) for reaction in tqdm(reactions_val)]"
   ]
  },
  {
   "cell_type": "code",
   "execution_count": null,
   "id": "39f3bafa-d62d-44b8-a555-afc9648faaa9",
   "metadata": {},
   "outputs": [],
   "source": [
    "df_template_train = pd.DataFrame(template_train)\n",
    "df_template_test = pd.DataFrame(template_test)\n",
    "df_template_val = pd.DataFrame(template_val)"
   ]
  },
  {
   "cell_type": "code",
   "execution_count": null,
   "id": "57c20e11-09ef-4615-9b33-52dd9da89c4a",
   "metadata": {},
   "outputs": [],
   "source": [
    "df_template_train.to_csv('template_train.csv', index = False)\n",
    "df_template_test.to_csv('template_test.csv', index = False)\n",
    "df_template_val.to_csv('template_val.csv', index = False)"
   ]
  },
  {
   "cell_type": "code",
   "execution_count": null,
   "id": "0683ae9a-3100-4fed-b3ac-13bd2756f52e",
   "metadata": {},
   "outputs": [],
   "source": []
  }
 ],
 "metadata": {
  "kernelspec": {
   "display_name": "Python 3 (ipykernel)",
   "language": "python",
   "name": "python3"
  },
  "language_info": {
   "codemirror_mode": {
    "name": "ipython",
    "version": 3
   },
   "file_extension": ".py",
   "mimetype": "text/x-python",
   "name": "python",
   "nbconvert_exporter": "python",
   "pygments_lexer": "ipython3",
   "version": "3.8.12"
  }
 },
 "nbformat": 4,
 "nbformat_minor": 5
}
